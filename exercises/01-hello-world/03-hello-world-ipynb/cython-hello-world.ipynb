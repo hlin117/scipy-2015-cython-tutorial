{
 "metadata": {
  "name": "",
  "signature": "sha256:c2f3d5582f6dc3d8db63067a3f99d77a8a8c0937d396b939fb887b6df3c2f506"
 },
 "nbformat": 3,
 "nbformat_minor": 0,
 "worksheets": [
  {
   "cells": [
    {
     "cell_type": "heading",
     "level": 1,
     "metadata": {},
     "source": [
      "Cython \"Hello World!\""
     ]
    },
    {
     "cell_type": "markdown",
     "metadata": {},
     "source": [
      "In this notebook, we will simply verify that the IPython Cython magic commands work properly.  If successful, you will be able to use Cython from within IPython and IPython notebooks.\n",
      "\n",
      "The first step is to load the `cythonmagic` extension:"
     ]
    },
    {
     "cell_type": "code",
     "collapsed": false,
     "input": [
      "%load_ext cythonmagic"
     ],
     "language": "python",
     "metadata": {},
     "outputs": [],
     "prompt_number": 1
    },
    {
     "cell_type": "markdown",
     "metadata": {},
     "source": [
      "If the above cell emits no error then a recent version of Cython is installed and IPython is able to find it.\n",
      "\n",
      "This next cell will determine whether we can compile Cython code on the fly:"
     ]
    },
    {
     "cell_type": "code",
     "collapsed": false,
     "input": [
      "%%cython\n",
      "def add(int a, int b):\n",
      "    return 3.1415926 * a + 2.718281828459045 * b"
     ],
     "language": "python",
     "metadata": {},
     "outputs": [],
     "prompt_number": 2
    },
    {
     "cell_type": "markdown",
     "metadata": {},
     "source": [
      "If the above cell emits no error, then you are able to compile and run Cython code inline.\n",
      "\n",
      "If you make a change to the above cell and re-execute, the %%cython magic function will detect the change, recompile, and import the new compiled code automatically.\n",
      "\n",
      "Let's define a pure-python version of the same function for comparison:"
     ]
    },
    {
     "cell_type": "code",
     "collapsed": false,
     "input": [
      "def pyadd(a, b):\n",
      "    return 3.1415926 * a + 2.718281828459045 * b"
     ],
     "language": "python",
     "metadata": {},
     "outputs": [],
     "prompt_number": 3
    },
    {
     "cell_type": "markdown",
     "metadata": {},
     "source": [
      "Lastly, let's compare the performance difference between the two:"
     ]
    },
    {
     "cell_type": "code",
     "collapsed": false,
     "input": [
      "%timeit add(1, 2)\n",
      "%timeit pyadd(1, 2)"
     ],
     "language": "python",
     "metadata": {},
     "outputs": [
      {
       "output_type": "stream",
       "stream": "stdout",
       "text": [
        "10000000 loops, best of 3: 69.8 ns per loop\n",
        "10000000 loops, best of 3: 158 ns per loop"
       ]
      },
      {
       "output_type": "stream",
       "stream": "stdout",
       "text": [
        "\n"
       ]
      }
     ],
     "prompt_number": 4
    },
    {
     "cell_type": "markdown",
     "metadata": {},
     "source": [
      "I see about a factor of 2 speedup for the Cython version (70 ns vs. 160 ns)."
     ]
    },
    {
     "cell_type": "code",
     "collapsed": false,
     "input": [],
     "language": "python",
     "metadata": {},
     "outputs": []
    }
   ],
   "metadata": {}
  }
 ]
}